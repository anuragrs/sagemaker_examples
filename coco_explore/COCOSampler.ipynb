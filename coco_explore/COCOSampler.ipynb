{
 "cells": [
  {
   "cell_type": "code",
   "execution_count": null,
   "id": "loaded-forestry",
   "metadata": {},
   "outputs": [],
   "source": [
    "!pip install pycocotools"
   ]
  },
  {
   "cell_type": "code",
   "execution_count": 43,
   "id": "infrared-guess",
   "metadata": {},
   "outputs": [],
   "source": [
    "from pycocotools.coco import COCO\n",
    "from collections import defaultdict, Counter\n",
    "import pprint\n",
    "import random\n",
    "import copy\n",
    "import os\n",
    "import shutil\n",
    "import re"
   ]
  },
  {
   "cell_type": "code",
   "execution_count": 44,
   "id": "premier-recording",
   "metadata": {},
   "outputs": [],
   "source": [
    "# paths\n",
    "annFile='/home/ec2-user/SageMaker/sagemaker_examples/coco2017/annotations/instances_train2017.json'\n",
    "dataDir = '/home/ec2-user/SageMaker/sagemaker_examples/coco2017/'\n",
    "targetDataDir = '/home/ec2-user/SageMaker/sagemaker_examples/coco_samples/'"
   ]
  },
  {
   "cell_type": "code",
   "execution_count": 45,
   "id": "bearing-tutorial",
   "metadata": {},
   "outputs": [
    {
     "name": "stdout",
     "output_type": "stream",
     "text": [
      "loading annotations into memory...\n",
      "Done (t=17.07s)\n",
      "creating index...\n",
      "index created!\n"
     ]
    }
   ],
   "source": [
    "# initialize COCO api for instance annotations\n",
    "coco=COCO(annFile)"
   ]
  },
  {
   "cell_type": "code",
   "execution_count": 46,
   "id": "nasty-geneva",
   "metadata": {},
   "outputs": [
    {
     "name": "stdout",
     "output_type": "stream",
     "text": [
      "{'segmentation': [[239.97, 260.24, 222.04, 270.49, 199.84, 253.41, 213.5, 227.79, 259.62, 200.46, 274.13, 202.17, 277.55, 210.71, 249.37, 253.41, 237.41, 264.51, 242.54, 261.95, 228.87, 271.34]], 'area': 2765.1486500000005, 'iscrowd': 0, 'image_id': 558840, 'bbox': [199.84, 200.46, 77.71, 70.88], 'category_id': 58, 'id': 156}\n"
     ]
    }
   ],
   "source": [
    "images = coco.dataset['images']\n",
    "annotations = coco.dataset['annotations']\n",
    "print(annotations[0])"
   ]
  },
  {
   "cell_type": "code",
   "execution_count": 47,
   "id": "preceding-clearance",
   "metadata": {},
   "outputs": [],
   "source": [
    "image_bboxes = defaultdict(list)\n",
    "num_bboxes_to_images = defaultdict(list)\n",
    "\n",
    "for ann in annotations:\n",
    "    image_bboxes[ann['image_id']].append(ann['bbox'])\n",
    "\n",
    "for img_id in image_bboxes:\n",
    "    num_bboxes_to_images[len(image_bboxes[img_id])].append(img_id)"
   ]
  },
  {
   "cell_type": "code",
   "execution_count": 48,
   "id": "bottom-vanilla",
   "metadata": {},
   "outputs": [],
   "source": [
    "Xs = []\n",
    "ys = []\n",
    "for num_boxes in num_bboxes_to_images:\n",
    "    for img in num_bboxes_to_images[num_boxes]:\n",
    "        Xs.append(img)\n",
    "        ys.append(num_boxes)"
   ]
  },
  {
   "cell_type": "code",
   "execution_count": 49,
   "id": "tired-realtor",
   "metadata": {},
   "outputs": [],
   "source": [
    "# stratified sampling based on above distribution\n",
    "from sklearn.model_selection import train_test_split"
   ]
  },
  {
   "cell_type": "code",
   "execution_count": 50,
   "id": "favorite-match",
   "metadata": {},
   "outputs": [],
   "source": [
    "# X_test will contain a stratified sample of desired size\n",
    "TOTAL_SAMPLES=100\n",
    "test_fraction=TOTAL_SAMPLES/len(Xs)\n",
    "X_train, X_test, y_train, y_test = train_test_split(Xs, ys, test_size=test_fraction, random_state=17)"
   ]
  },
  {
   "cell_type": "code",
   "execution_count": 51,
   "id": "vertical-voluntary",
   "metadata": {},
   "outputs": [
    {
     "data": {
      "text/plain": [
       "<AxesSubplot:ylabel='Density'>"
      ]
     },
     "execution_count": 51,
     "metadata": {},
     "output_type": "execute_result"
    },
    {
     "data": {
      "image/png": "[encoded data removed]",
      "text/plain": [
       "<Figure size 432x288 with 1 Axes>"
      ]
     },
     "metadata": {
      "needs_background": "light"
     },
     "output_type": "display_data"
    }
   ],
   "source": [
    "# plot distribution of bboxes\n",
    "import seaborn as sns\n",
    "sns.kdeplot(ys)"
   ]
  },
  {
   "cell_type": "code",
   "execution_count": 52,
   "id": "amateur-thanksgiving",
   "metadata": {},
   "outputs": [
    {
     "data": {
      "text/plain": [
       "<AxesSubplot:ylabel='Density'>"
      ]
     },
     "execution_count": 52,
     "metadata": {},
     "output_type": "execute_result"
    },
    {
     "data": {
      "image/png": "[encoded data removed]",
      "text/plain": [
       "<Figure size 432x288 with 1 Axes>"
      ]
     },
     "metadata": {
      "needs_background": "light"
     },
     "output_type": "display_data"
    }
   ],
   "source": [
    "sns.kdeplot(y_test)"
   ]
  },
  {
   "cell_type": "code",
   "execution_count": 53,
   "id": "pressed-pledge",
   "metadata": {},
   "outputs": [],
   "source": [
    "image_id_to_detail_map = {}\n",
    "for image in images:\n",
    "    image_id_to_detail_map[image['id']] = image"
   ]
  },
  {
   "cell_type": "code",
   "execution_count": 54,
   "id": "assumed-hearing",
   "metadata": {},
   "outputs": [
    {
     "name": "stdout",
     "output_type": "stream",
     "text": [
      "{'license': 4, 'file_name': '000000051027.jpg', 'coco_url': 'http://images.cocodataset.org/train2017/000000051027.jpg', 'height': 640, 'width': 480, 'date_captured': '2013-11-16 15:22:29', 'flickr_url': 'http://farm8.staticflickr.com/7153/6550981671_e6b0f0147e_z.jpg', 'id': 51027}\n",
      "{'license': 3, 'file_name': '000000476904.jpg', 'coco_url': 'http://images.cocodataset.org/train2017/000000476904.jpg', 'height': 480, 'width': 640, 'date_captured': '2013-11-16 17:38:47', 'flickr_url': 'http://farm3.staticflickr.com/2275/2022325858_59b442f91c_z.jpg', 'id': 476904}\n",
      "{'license': 4, 'file_name': '000000487796.jpg', 'coco_url': 'http://images.cocodataset.org/train2017/000000487796.jpg', 'height': 427, 'width': 640, 'date_captured': '2013-11-14 16:44:15', 'flickr_url': 'http://farm7.staticflickr.com/6048/6363897179_8bcce5071d_z.jpg', 'id': 487796}\n",
      "{'license': 4, 'file_name': '000000215191.jpg', 'coco_url': 'http://images.cocodataset.org/train2017/000000215191.jpg', 'height': 480, 'width': 640, 'date_captured': '2013-11-15 13:42:34', 'flickr_url': 'http://farm7.staticflickr.com/6233/6285390715_56d2f27210_z.jpg', 'id': 215191}\n",
      "{'license': 3, 'file_name': '000000160858.jpg', 'coco_url': 'http://images.cocodataset.org/train2017/000000160858.jpg', 'height': 375, 'width': 500, 'date_captured': '2013-11-18 22:15:15', 'flickr_url': 'http://farm1.staticflickr.com/40/75239991_b634b66e9e_z.jpg', 'id': 160858}\n",
      "{'license': 3, 'file_name': '000000497572.jpg', 'coco_url': 'http://images.cocodataset.org/train2017/000000497572.jpg', 'height': 640, 'width': 478, 'date_captured': '2013-11-19 18:50:45', 'flickr_url': 'http://farm9.staticflickr.com/8340/8191375412_c2fb5d7ea2_z.jpg', 'id': 497572}\n",
      "{'license': 1, 'file_name': '000000066118.jpg', 'coco_url': 'http://images.cocodataset.org/train2017/000000066118.jpg', 'height': 427, 'width': 640, 'date_captured': '2013-11-18 00:35:33', 'flickr_url': 'http://farm6.staticflickr.com/5003/5249789676_ea3c966098_z.jpg', 'id': 66118}\n",
      "{'license': 5, 'file_name': '000000225133.jpg', 'coco_url': 'http://images.cocodataset.org/train2017/000000225133.jpg', 'height': 640, 'width': 427, 'date_captured': '2013-11-18 09:34:10', 'flickr_url': 'http://farm8.staticflickr.com/7134/7825169844_8165d29b62_z.jpg', 'id': 225133}\n",
      "{'license': 1, 'file_name': '000000150821.jpg', 'coco_url': 'http://images.cocodataset.org/train2017/000000150821.jpg', 'height': 500, 'width': 333, 'date_captured': '2013-11-24 06:31:47', 'flickr_url': 'http://farm3.staticflickr.com/2698/4353851195_c806a6c83f_z.jpg', 'id': 150821}\n",
      "{'license': 5, 'file_name': '000000219117.jpg', 'coco_url': 'http://images.cocodataset.org/train2017/000000219117.jpg', 'height': 426, 'width': 640, 'date_captured': '2013-11-17 09:15:48', 'flickr_url': 'http://farm3.staticflickr.com/2888/9018780891_8d01105b86_z.jpg', 'id': 219117}\n",
      "{'license': 3, 'file_name': '000000435451.jpg', 'coco_url': 'http://images.cocodataset.org/train2017/000000435451.jpg', 'height': 427, 'width': 640, 'date_captured': '2013-11-17 16:06:29', 'flickr_url': 'http://farm6.staticflickr.com/5290/5214824206_2be011bb63_z.jpg', 'id': 435451}\n",
      "{'license': 6, 'file_name': '000000273403.jpg', 'coco_url': 'http://images.cocodataset.org/train2017/000000273403.jpg', 'height': 225, 'width': 300, 'date_captured': '2013-11-22 00:27:18', 'flickr_url': 'http://farm5.staticflickr.com/4077/4775492206_61a6abbb7a_z.jpg', 'id': 273403}\n",
      "{'license': 1, 'file_name': '000000268510.jpg', 'coco_url': 'http://images.cocodataset.org/train2017/000000268510.jpg', 'height': 480, 'width': 640, 'date_captured': '2013-11-15 06:01:25', 'flickr_url': 'http://farm1.staticflickr.com/45/160709691_9ad1ca1832_z.jpg', 'id': 268510}\n",
      "{'license': 3, 'file_name': '000000001700.jpg', 'coco_url': 'http://images.cocodataset.org/train2017/000000001700.jpg', 'height': 480, 'width': 640, 'date_captured': '2013-11-20 13:53:06', 'flickr_url': 'http://farm4.staticflickr.com/3411/3177439387_c6719a737f_z.jpg', 'id': 1700}\n",
      "{'license': 4, 'file_name': '000000534311.jpg', 'coco_url': 'http://images.cocodataset.org/train2017/000000534311.jpg', 'height': 360, 'width': 640, 'date_captured': '2013-11-17 23:34:57', 'flickr_url': 'http://farm7.staticflickr.com/6071/6066145246_08286e4933_z.jpg', 'id': 534311}\n",
      "{'license': 1, 'file_name': '000000388847.jpg', 'coco_url': 'http://images.cocodataset.org/train2017/000000388847.jpg', 'height': 507, 'width': 640, 'date_captured': '2013-11-18 05:38:42', 'flickr_url': 'http://farm7.staticflickr.com/6127/5993547036_a352762b4f_z.jpg', 'id': 388847}\n",
      "{'license': 1, 'file_name': '000000499786.jpg', 'coco_url': 'http://images.cocodataset.org/train2017/000000499786.jpg', 'height': 459, 'width': 640, 'date_captured': '2013-11-16 22:25:40', 'flickr_url': 'http://farm1.staticflickr.com/175/372699124_f495a98d30_z.jpg', 'id': 499786}\n",
      "{'license': 4, 'file_name': '000000063079.jpg', 'coco_url': 'http://images.cocodataset.org/train2017/000000063079.jpg', 'height': 640, 'width': 425, 'date_captured': '2013-11-17 10:54:46', 'flickr_url': 'http://farm6.staticflickr.com/5230/5818204992_b34d3dec7e_z.jpg', 'id': 63079}\n",
      "{'license': 1, 'file_name': '000000521269.jpg', 'coco_url': 'http://images.cocodataset.org/train2017/000000521269.jpg', 'height': 429, 'width': 640, 'date_captured': '2013-11-21 20:09:54', 'flickr_url': 'http://farm2.staticflickr.com/1316/1222144773_eb44f4ef09_z.jpg', 'id': 521269}\n",
      "{'license': 1, 'file_name': '000000040274.jpg', 'coco_url': 'http://images.cocodataset.org/train2017/000000040274.jpg', 'height': 480, 'width': 640, 'date_captured': '2013-11-14 17:52:09', 'flickr_url': 'http://farm9.staticflickr.com/8129/8707079317_e1b5286fe1_z.jpg', 'id': 40274}\n",
      "{'license': 3, 'file_name': '000000342085.jpg', 'coco_url': 'http://images.cocodataset.org/train2017/000000342085.jpg', 'height': 527, 'width': 640, 'date_captured': '2013-11-17 03:21:52', 'flickr_url': 'http://farm4.staticflickr.com/3013/3023087989_b13ac01537_z.jpg', 'id': 342085}\n",
      "{'license': 2, 'file_name': '000000304997.jpg', 'coco_url': 'http://images.cocodataset.org/train2017/000000304997.jpg', 'height': 375, 'width': 500, 'date_captured': '2013-11-22 22:32:26', 'flickr_url': 'http://farm4.staticflickr.com/3453/3948640299_18808e4377_z.jpg', 'id': 304997}\n",
      "{'license': 3, 'file_name': '000000396958.jpg', 'coco_url': 'http://images.cocodataset.org/train2017/000000396958.jpg', 'height': 640, 'width': 480, 'date_captured': '2013-11-17 03:11:54', 'flickr_url': 'http://farm9.staticflickr.com/8385/8578706314_661f56c8f6_z.jpg', 'id': 396958}\n",
      "{'license': 4, 'file_name': '000000384007.jpg', 'coco_url': 'http://images.cocodataset.org/train2017/000000384007.jpg', 'height': 640, 'width': 480, 'date_captured': '2013-11-16 13:35:12', 'flickr_url': 'http://farm7.staticflickr.com/6083/6090227953_1a3e45ab6a_z.jpg', 'id': 384007}\n",
      "{'license': 1, 'file_name': '000000105671.jpg', 'coco_url': 'http://images.cocodataset.org/train2017/000000105671.jpg', 'height': 640, 'width': 480, 'date_captured': '2013-11-17 04:26:31', 'flickr_url': 'http://farm5.staticflickr.com/4096/4935239101_af5b316dbe_z.jpg', 'id': 105671}\n",
      "{'license': 4, 'file_name': '000000073119.jpg', 'coco_url': 'http://images.cocodataset.org/train2017/000000073119.jpg', 'height': 427, 'width': 640, 'date_captured': '2013-11-17 08:42:52', 'flickr_url': 'http://farm4.staticflickr.com/3679/9218175382_88b92b5e41_z.jpg', 'id': 73119}\n",
      "{'license': 3, 'file_name': '000000519209.jpg', 'coco_url': 'http://images.cocodataset.org/train2017/000000519209.jpg', 'height': 427, 'width': 640, 'date_captured': '2013-11-14 16:49:44', 'flickr_url': 'http://farm9.staticflickr.com/8329/8391864858_30316ab766_z.jpg', 'id': 519209}\n",
      "{'license': 5, 'file_name': '000000408846.jpg', 'coco_url': 'http://images.cocodataset.org/train2017/000000408846.jpg', 'height': 480, 'width': 640, 'date_captured': '2013-11-18 19:38:12', 'flickr_url': 'http://farm5.staticflickr.com/4134/4898139224_7eb973c6a8_z.jpg', 'id': 408846}\n",
      "{'license': 3, 'file_name': '000000163047.jpg', 'coco_url': 'http://images.cocodataset.org/train2017/000000163047.jpg', 'height': 480, 'width': 640, 'date_captured': '2013-11-15 06:09:53', 'flickr_url': 'http://farm8.staticflickr.com/7286/8731725741_dbcc4ab64b_z.jpg', 'id': 163047}\n",
      "{'license': 1, 'file_name': '000000130884.jpg', 'coco_url': 'http://images.cocodataset.org/train2017/000000130884.jpg', 'height': 640, 'width': 480, 'date_captured': '2013-11-15 13:09:47', 'flickr_url': 'http://farm4.staticflickr.com/3233/2342655581_b764560710_z.jpg', 'id': 130884}\n",
      "{'license': 2, 'file_name': '000000547081.jpg', 'coco_url': 'http://images.cocodataset.org/train2017/000000547081.jpg', 'height': 500, 'width': 375, 'date_captured': '2013-11-24 21:37:43', 'flickr_url': 'http://farm2.staticflickr.com/1214/1462500236_80d09cb032_z.jpg', 'id': 547081}\n",
      "{'license': 1, 'file_name': '000000276290.jpg', 'coco_url': 'http://images.cocodataset.org/train2017/000000276290.jpg', 'height': 480, 'width': 640, 'date_captured': '2013-11-18 22:24:30', 'flickr_url': 'http://farm1.staticflickr.com/71/210748428_945d15893b_z.jpg', 'id': 276290}\n",
      "{'license': 6, 'file_name': '000000483833.jpg', 'coco_url': 'http://images.cocodataset.org/train2017/000000483833.jpg', 'height': 333, 'width': 500, 'date_captured': '2013-11-19 20:45:17', 'flickr_url': 'http://farm4.staticflickr.com/3038/2866798598_31bcbd4104_z.jpg', 'id': 483833}\n",
      "{'license': 1, 'file_name': '000000149918.jpg', 'coco_url': 'http://images.cocodataset.org/train2017/000000149918.jpg', 'height': 375, 'width': 500, 'date_captured': '2013-11-15 02:41:55', 'flickr_url': 'http://farm1.staticflickr.com/28/36630048_c7d3d5bd76_z.jpg', 'id': 149918}\n",
      "{'license': 5, 'file_name': '000000552849.jpg', 'coco_url': 'http://images.cocodataset.org/train2017/000000552849.jpg', 'height': 456, 'width': 640, 'date_captured': '2013-11-19 19:33:47', 'flickr_url': 'http://farm6.staticflickr.com/5346/9765934792_a820514a93_z.jpg', 'id': 552849}\n",
      "{'license': 1, 'file_name': '000000061144.jpg', 'coco_url': 'http://images.cocodataset.org/train2017/000000061144.jpg', 'height': 640, 'width': 427, 'date_captured': '2013-11-24 15:01:26', 'flickr_url': 'http://farm7.staticflickr.com/6046/6278932300_b183b4cb34_z.jpg', 'id': 61144}\n",
      "{'license': 4, 'file_name': '000000307148.jpg', 'coco_url': 'http://images.cocodataset.org/train2017/000000307148.jpg', 'height': 440, 'width': 640, 'date_captured': '2013-11-21 05:43:21', 'flickr_url': 'http://farm5.staticflickr.com/4036/4399576830_e4be3e322f_z.jpg', 'id': 307148}\n",
      "{'license': 3, 'file_name': '000000448255.jpg', 'coco_url': 'http://images.cocodataset.org/train2017/000000448255.jpg', 'height': 640, 'width': 480, 'date_captured': '2013-11-17 14:07:37', 'flickr_url': 'http://farm3.staticflickr.com/2519/4176760780_949922897b_z.jpg', 'id': 448255}\n",
      "{'license': 5, 'file_name': '000000272310.jpg', 'coco_url': 'http://images.cocodataset.org/train2017/000000272310.jpg', 'height': 423, 'width': 640, 'date_captured': '2013-11-16 05:15:52', 'flickr_url': 'http://farm5.staticflickr.com/4092/5048976922_ec4da322bb_z.jpg', 'id': 272310}\n",
      "{'license': 1, 'file_name': '000000024880.jpg', 'coco_url': 'http://images.cocodataset.org/train2017/000000024880.jpg', 'height': 480, 'width': 640, 'date_captured': '2013-11-24 04:24:15', 'flickr_url': 'http://farm3.staticflickr.com/2425/3572193091_cec863bb0a_z.jpg', 'id': 24880}\n",
      "{'license': 1, 'file_name': '000000159038.jpg', 'coco_url': 'http://images.cocodataset.org/train2017/000000159038.jpg', 'height': 375, 'width': 500, 'date_captured': '2013-11-14 16:36:09', 'flickr_url': 'http://farm4.staticflickr.com/3292/2523237038_d0bc04a096_z.jpg', 'id': 159038}\n",
      "{'license': 5, 'file_name': '000000507211.jpg', 'coco_url': 'http://images.cocodataset.org/train2017/000000507211.jpg', 'height': 453, 'width': 640, 'date_captured': '2013-11-20 23:59:46', 'flickr_url': 'http://farm6.staticflickr.com/5082/5304756707_43caac4ab8_z.jpg', 'id': 507211}\n",
      "{'license': 4, 'file_name': '000000171737.jpg', 'coco_url': 'http://images.cocodataset.org/train2017/000000171737.jpg', 'height': 512, 'width': 640, 'date_captured': '2013-11-21 03:39:28', 'flickr_url': 'http://farm8.staticflickr.com/7191/6994227493_513e55919d_z.jpg', 'id': 171737}\n",
      "{'license': 3, 'file_name': '000000553549.jpg', 'coco_url': 'http://images.cocodataset.org/train2017/000000553549.jpg', 'height': 480, 'width': 640, 'date_captured': '2013-11-18 13:46:41', 'flickr_url': 'http://farm9.staticflickr.com/8335/8147704705_28f7a66be3_z.jpg', 'id': 553549}\n",
      "{'license': 2, 'file_name': '000000503148.jpg', 'coco_url': 'http://images.cocodataset.org/train2017/000000503148.jpg', 'height': 640, 'width': 480, 'date_captured': '2013-11-21 05:43:59', 'flickr_url': 'http://farm4.staticflickr.com/3311/4623481446_006f488595_z.jpg', 'id': 503148}\n",
      "{'license': 3, 'file_name': '000000128140.jpg', 'coco_url': 'http://images.cocodataset.org/train2017/000000128140.jpg', 'height': 640, 'width': 427, 'date_captured': '2013-11-19 23:53:48', 'flickr_url': 'http://farm5.staticflickr.com/4055/4526691524_4cdf34cd9f_z.jpg', 'id': 128140}\n",
      "{'license': 3, 'file_name': '000000567893.jpg', 'coco_url': 'http://images.cocodataset.org/train2017/000000567893.jpg', 'height': 640, 'width': 517, 'date_captured': '2013-11-22 22:29:24', 'flickr_url': 'http://farm5.staticflickr.com/4099/4942734719_9441e157b9_z.jpg', 'id': 567893}\n",
      "{'license': 3, 'file_name': '000000094268.jpg', 'coco_url': 'http://images.cocodataset.org/train2017/000000094268.jpg', 'height': 427, 'width': 640, 'date_captured': '2013-11-18 17:37:41', 'flickr_url': 'http://farm2.staticflickr.com/1306/942722678_498cb21cbb_z.jpg', 'id': 94268}\n",
      "{'license': 3, 'file_name': '000000511208.jpg', 'coco_url': 'http://images.cocodataset.org/train2017/000000511208.jpg', 'height': 612, 'width': 612, 'date_captured': '2013-11-25 08:31:37', 'flickr_url': 'http://farm4.staticflickr.com/3791/9322896969_2fb4744151_z.jpg', 'id': 511208}\n",
      "{'license': 3, 'file_name': '000000197307.jpg', 'coco_url': 'http://images.cocodataset.org/train2017/000000197307.jpg', 'height': 480, 'width': 640, 'date_captured': '2013-11-23 03:38:11', 'flickr_url': 'http://farm4.staticflickr.com/3470/3225137102_520f780746_z.jpg', 'id': 197307}\n",
      "{'license': 4, 'file_name': '000000043692.jpg', 'coco_url': 'http://images.cocodataset.org/train2017/000000043692.jpg', 'height': 500, 'width': 464, 'date_captured': '2013-11-20 06:20:12', 'flickr_url': 'http://farm3.staticflickr.com/2674/4067862562_208345f37b_z.jpg', 'id': 43692}\n",
      "{'license': 4, 'file_name': '000000240481.jpg', 'coco_url': 'http://images.cocodataset.org/train2017/000000240481.jpg', 'height': 640, 'width': 423, 'date_captured': '2013-11-23 03:40:08', 'flickr_url': 'http://farm4.staticflickr.com/3132/3219906118_2636a659c3_z.jpg', 'id': 240481}\n",
      "{'license': 2, 'file_name': '000000557527.jpg', 'coco_url': 'http://images.cocodataset.org/train2017/000000557527.jpg', 'height': 427, 'width': 640, 'date_captured': '2013-11-21 00:59:29', 'flickr_url': 'http://farm5.staticflickr.com/4089/5108729905_091205b975_z.jpg', 'id': 557527}\n",
      "{'license': 3, 'file_name': '000000275292.jpg', 'coco_url': 'http://images.cocodataset.org/train2017/000000275292.jpg', 'height': 446, 'width': 640, 'date_captured': '2013-11-18 07:11:46', 'flickr_url': 'http://farm4.staticflickr.com/3666/9331411389_0bbc7abd04_z.jpg', 'id': 275292}\n",
      "{'license': 2, 'file_name': '000000323231.jpg', 'coco_url': 'http://images.cocodataset.org/train2017/000000323231.jpg', 'height': 238, 'width': 500, 'date_captured': '2013-11-20 00:10:26', 'flickr_url': 'http://farm5.staticflickr.com/4009/4474694997_ca88fb9102_z.jpg', 'id': 323231}\n",
      "{'license': 2, 'file_name': '000000451559.jpg', 'coco_url': 'http://images.cocodataset.org/train2017/000000451559.jpg', 'height': 480, 'width': 640, 'date_captured': '2013-11-14 23:20:54', 'flickr_url': 'http://farm2.staticflickr.com/1212/1303736880_2bd07f0fa1_z.jpg', 'id': 451559}\n",
      "{'license': 1, 'file_name': '000000124106.jpg', 'coco_url': 'http://images.cocodataset.org/train2017/000000124106.jpg', 'height': 500, 'width': 333, 'date_captured': '2013-11-22 08:27:23', 'flickr_url': 'http://farm3.staticflickr.com/2625/3771155025_8067d67f60_z.jpg', 'id': 124106}\n",
      "{'license': 3, 'file_name': '000000056544.jpg', 'coco_url': 'http://images.cocodataset.org/train2017/000000056544.jpg', 'height': 480, 'width': 640, 'date_captured': '2013-11-17 05:00:00', 'flickr_url': 'http://farm1.staticflickr.com/188/410043239_849bdafcc8_z.jpg', 'id': 56544}\n",
      "{'license': 1, 'file_name': '000000101960.jpg', 'coco_url': 'http://images.cocodataset.org/train2017/000000101960.jpg', 'height': 379, 'width': 500, 'date_captured': '2013-11-23 05:47:06', 'flickr_url': 'http://farm1.staticflickr.com/26/40312095_69a099dec5_z.jpg', 'id': 101960}\n",
      "{'license': 1, 'file_name': '000000233434.jpg', 'coco_url': 'http://images.cocodataset.org/train2017/000000233434.jpg', 'height': 427, 'width': 640, 'date_captured': '2013-11-18 10:57:57', 'flickr_url': 'http://farm3.staticflickr.com/2623/3977826335_6225d80bb9_z.jpg', 'id': 233434}\n",
      "{'license': 4, 'file_name': '000000482507.jpg', 'coco_url': 'http://images.cocodataset.org/train2017/000000482507.jpg', 'height': 427, 'width': 640, 'date_captured': '2013-11-18 14:23:07', 'flickr_url': 'http://farm4.staticflickr.com/3790/9323528314_29dfd0a261_z.jpg', 'id': 482507}\n",
      "{'license': 3, 'file_name': '000000214232.jpg', 'coco_url': 'http://images.cocodataset.org/train2017/000000214232.jpg', 'height': 480, 'width': 640, 'date_captured': '2013-11-20 12:09:37', 'flickr_url': 'http://farm4.staticflickr.com/3051/2650090575_47a591f8ee_z.jpg', 'id': 214232}\n",
      "{'license': 1, 'file_name': '000000447830.jpg', 'coco_url': 'http://images.cocodataset.org/train2017/000000447830.jpg', 'height': 426, 'width': 640, 'date_captured': '2013-11-18 22:48:07', 'flickr_url': 'http://farm6.staticflickr.com/5159/5872100057_acd94bf3b6_z.jpg', 'id': 447830}\n",
      "{'license': 4, 'file_name': '000000230516.jpg', 'coco_url': 'http://images.cocodataset.org/train2017/000000230516.jpg', 'height': 640, 'width': 427, 'date_captured': '2013-11-19 17:52:54', 'flickr_url': 'http://farm3.staticflickr.com/2757/4357208606_ce0f096a70_z.jpg', 'id': 230516}\n",
      "{'license': 3, 'file_name': '000000515998.jpg', 'coco_url': 'http://images.cocodataset.org/train2017/000000515998.jpg', 'height': 640, 'width': 480, 'date_captured': '2013-11-18 08:57:47', 'flickr_url': 'http://farm6.staticflickr.com/5530/9102779640_b88419d371_z.jpg', 'id': 515998}\n",
      "{'license': 3, 'file_name': '000000013576.jpg', 'coco_url': 'http://images.cocodataset.org/train2017/000000013576.jpg', 'height': 480, 'width': 640, 'date_captured': '2013-11-24 23:13:47', 'flickr_url': 'http://farm3.staticflickr.com/2824/9011731713_ded0cfcb35_z.jpg', 'id': 13576}\n",
      "{'license': 5, 'file_name': '000000314147.jpg', 'coco_url': 'http://images.cocodataset.org/train2017/000000314147.jpg', 'height': 640, 'width': 427, 'date_captured': '2013-11-18 04:00:05', 'flickr_url': 'http://farm5.staticflickr.com/4078/4897496104_db622bf89f_z.jpg', 'id': 314147}\n",
      "{'license': 2, 'file_name': '000000073453.jpg', 'coco_url': 'http://images.cocodataset.org/train2017/000000073453.jpg', 'height': 500, 'width': 375, 'date_captured': '2013-11-18 11:24:47', 'flickr_url': 'http://farm1.staticflickr.com/44/133389130_689a63f4f9_z.jpg', 'id': 73453}\n",
      "{'license': 5, 'file_name': '000000034113.jpg', 'coco_url': 'http://images.cocodataset.org/train2017/000000034113.jpg', 'height': 640, 'width': 426, 'date_captured': '2013-11-18 12:08:06', 'flickr_url': 'http://farm4.staticflickr.com/3663/3392599156_e94f7d1098_z.jpg', 'id': 34113}\n",
      "{'license': 4, 'file_name': '000000321422.jpg', 'coco_url': 'http://images.cocodataset.org/train2017/000000321422.jpg', 'height': 360, 'width': 640, 'date_captured': '2013-11-19 17:57:02', 'flickr_url': 'http://farm7.staticflickr.com/6133/5919659313_39dd6b98ac_z.jpg', 'id': 321422}\n",
      "{'license': 1, 'file_name': '000000390552.jpg', 'coco_url': 'http://images.cocodataset.org/train2017/000000390552.jpg', 'height': 640, 'width': 482, 'date_captured': '2013-11-15 11:19:02', 'flickr_url': 'http://farm9.staticflickr.com/8285/7514214114_bbaba9cb01_z.jpg', 'id': 390552}\n",
      "{'license': 5, 'file_name': '000000497227.jpg', 'coco_url': 'http://images.cocodataset.org/train2017/000000497227.jpg', 'height': 480, 'width': 640, 'date_captured': '2013-11-24 00:16:53', 'flickr_url': 'http://farm2.staticflickr.com/1008/1426904233_ee344879b6_z.jpg', 'id': 497227}\n",
      "{'license': 2, 'file_name': '000000386602.jpg', 'coco_url': 'http://images.cocodataset.org/train2017/000000386602.jpg', 'height': 297, 'width': 500, 'date_captured': '2013-11-22 19:13:53', 'flickr_url': 'http://farm2.staticflickr.com/1227/907020814_7c4d91bfcc_z.jpg', 'id': 386602}\n",
      "{'license': 4, 'file_name': '000000114648.jpg', 'coco_url': 'http://images.cocodataset.org/train2017/000000114648.jpg', 'height': 307, 'width': 500, 'date_captured': '2013-11-24 05:42:58', 'flickr_url': 'http://farm4.staticflickr.com/3257/2530899888_111a548832_z.jpg', 'id': 114648}\n",
      "{'license': 3, 'file_name': '000000328113.jpg', 'coco_url': 'http://images.cocodataset.org/train2017/000000328113.jpg', 'height': 569, 'width': 640, 'date_captured': '2013-11-16 23:20:07', 'flickr_url': 'http://farm3.staticflickr.com/2585/5782252556_5a91ba7aa0_z.jpg', 'id': 328113}\n",
      "{'license': 1, 'file_name': '000000277775.jpg', 'coco_url': 'http://images.cocodataset.org/train2017/000000277775.jpg', 'height': 480, 'width': 640, 'date_captured': '2013-11-22 02:10:57', 'flickr_url': 'http://farm3.staticflickr.com/2662/3861069222_d87d19ba02_z.jpg', 'id': 277775}\n",
      "{'license': 1, 'file_name': '000000573997.jpg', 'coco_url': 'http://images.cocodataset.org/train2017/000000573997.jpg', 'height': 375, 'width': 500, 'date_captured': '2013-11-20 21:38:52', 'flickr_url': 'http://farm3.staticflickr.com/2061/2266736729_6a7c3851ed_z.jpg', 'id': 573997}\n",
      "{'license': 2, 'file_name': '000000438026.jpg', 'coco_url': 'http://images.cocodataset.org/train2017/000000438026.jpg', 'height': 640, 'width': 480, 'date_captured': '2013-11-24 10:46:24', 'flickr_url': 'http://farm3.staticflickr.com/2037/2207885037_7ce7b9344b_z.jpg', 'id': 438026}\n",
      "{'license': 4, 'file_name': '000000367967.jpg', 'coco_url': 'http://images.cocodataset.org/train2017/000000367967.jpg', 'height': 320, 'width': 568, 'date_captured': '2013-11-16 23:01:09', 'flickr_url': 'http://farm7.staticflickr.com/6037/5899665040_52c6be2960_z.jpg', 'id': 367967}\n",
      "{'license': 2, 'file_name': '000000012023.jpg', 'coco_url': 'http://images.cocodataset.org/train2017/000000012023.jpg', 'height': 612, 'width': 612, 'date_captured': '2013-11-20 16:30:28', 'flickr_url': 'http://farm9.staticflickr.com/8188/8446446988_1e78cef90d_z.jpg', 'id': 12023}\n",
      "{'license': 2, 'file_name': '000000453154.jpg', 'coco_url': 'http://images.cocodataset.org/train2017/000000453154.jpg', 'height': 640, 'width': 640, 'date_captured': '2013-11-20 16:28:59', 'flickr_url': 'http://farm5.staticflickr.com/4076/4914191304_b750cfa50d_z.jpg', 'id': 453154}\n",
      "{'license': 2, 'file_name': '000000469282.jpg', 'coco_url': 'http://images.cocodataset.org/train2017/000000469282.jpg', 'height': 640, 'width': 425, 'date_captured': '2013-11-17 22:11:09', 'flickr_url': 'http://farm8.staticflickr.com/7404/9210320917_e98448ebd7_z.jpg', 'id': 469282}\n",
      "{'license': 5, 'file_name': '000000497441.jpg', 'coco_url': 'http://images.cocodataset.org/train2017/000000497441.jpg', 'height': 480, 'width': 640, 'date_captured': '2013-11-17 17:43:19', 'flickr_url': 'http://farm8.staticflickr.com/7324/9308112792_342ba0b890_z.jpg', 'id': 497441}\n",
      "{'license': 4, 'file_name': '000000488277.jpg', 'coco_url': 'http://images.cocodataset.org/train2017/000000488277.jpg', 'height': 389, 'width': 640, 'date_captured': '2013-11-17 01:58:50', 'flickr_url': 'http://farm1.staticflickr.com/101/255811669_5b1fcbf297_z.jpg', 'id': 488277}\n",
      "{'license': 1, 'file_name': '000000234766.jpg', 'coco_url': 'http://images.cocodataset.org/train2017/000000234766.jpg', 'height': 427, 'width': 640, 'date_captured': '2013-11-20 04:28:26', 'flickr_url': 'http://farm6.staticflickr.com/5181/5610541724_29db143b19_z.jpg', 'id': 234766}\n",
      "{'license': 6, 'file_name': '000000201322.jpg', 'coco_url': 'http://images.cocodataset.org/train2017/000000201322.jpg', 'height': 640, 'width': 427, 'date_captured': '2013-11-20 16:46:55', 'flickr_url': 'http://farm5.staticflickr.com/4151/5003644046_1122a796c9_z.jpg', 'id': 201322}\n",
      "{'license': 5, 'file_name': '000000212227.jpg', 'coco_url': 'http://images.cocodataset.org/train2017/000000212227.jpg', 'height': 482, 'width': 640, 'date_captured': '2013-11-24 01:42:20', 'flickr_url': 'http://farm9.staticflickr.com/8361/8289498923_e193d63d83_z.jpg', 'id': 212227}\n",
      "{'license': 3, 'file_name': '000000134946.jpg', 'coco_url': 'http://images.cocodataset.org/train2017/000000134946.jpg', 'height': 480, 'width': 640, 'date_captured': '2013-11-16 22:48:41', 'flickr_url': 'http://farm7.staticflickr.com/6207/6026838127_c7d71bebbb_z.jpg', 'id': 134946}\n",
      "{'license': 1, 'file_name': '000000344942.jpg', 'coco_url': 'http://images.cocodataset.org/train2017/000000344942.jpg', 'height': 480, 'width': 640, 'date_captured': '2013-11-24 04:54:16', 'flickr_url': 'http://farm4.staticflickr.com/3291/3035829833_46efcec508_z.jpg', 'id': 344942}\n",
      "{'license': 4, 'file_name': '000000324308.jpg', 'coco_url': 'http://images.cocodataset.org/train2017/000000324308.jpg', 'height': 480, 'width': 640, 'date_captured': '2013-11-19 20:20:31', 'flickr_url': 'http://farm9.staticflickr.com/8034/8013366166_cc6a7558d2_z.jpg', 'id': 324308}\n",
      "{'license': 3, 'file_name': '000000102614.jpg', 'coco_url': 'http://images.cocodataset.org/train2017/000000102614.jpg', 'height': 456, 'width': 640, 'date_captured': '2013-11-16 22:39:58', 'flickr_url': 'http://farm7.staticflickr.com/6079/6093835430_720061204d_z.jpg', 'id': 102614}\n",
      "{'license': 6, 'file_name': '000000021051.jpg', 'coco_url': 'http://images.cocodataset.org/train2017/000000021051.jpg', 'height': 424, 'width': 640, 'date_captured': '2013-11-18 06:18:10', 'flickr_url': 'http://farm6.staticflickr.com/5455/9443713365_b307122335_z.jpg', 'id': 21051}\n",
      "{'license': 1, 'file_name': '000000291059.jpg', 'coco_url': 'http://images.cocodataset.org/train2017/000000291059.jpg', 'height': 408, 'width': 640, 'date_captured': '2013-11-16 02:18:41', 'flickr_url': 'http://farm8.staticflickr.com/7168/6610803723_90efc39cdf_z.jpg', 'id': 291059}\n",
      "{'license': 2, 'file_name': '000000249489.jpg', 'coco_url': 'http://images.cocodataset.org/train2017/000000249489.jpg', 'height': 480, 'width': 640, 'date_captured': '2013-11-20 15:14:45', 'flickr_url': 'http://farm1.staticflickr.com/2/3252876_5f08884a44_z.jpg', 'id': 249489}\n",
      "{'license': 3, 'file_name': '000000098494.jpg', 'coco_url': 'http://images.cocodataset.org/train2017/000000098494.jpg', 'height': 480, 'width': 640, 'date_captured': '2013-11-24 07:09:37', 'flickr_url': 'http://farm4.staticflickr.com/3052/2523800968_0c0c5614a1_z.jpg', 'id': 98494}\n",
      "{'license': 1, 'file_name': '000000082662.jpg', 'coco_url': 'http://images.cocodataset.org/train2017/000000082662.jpg', 'height': 378, 'width': 500, 'date_captured': '2013-11-17 08:13:06', 'flickr_url': 'http://farm1.staticflickr.com/3/3263374_605363bdb0_z.jpg', 'id': 82662}\n",
      "{'license': 2, 'file_name': '000000285742.jpg', 'coco_url': 'http://images.cocodataset.org/train2017/000000285742.jpg', 'height': 524, 'width': 640, 'date_captured': '2013-11-15 06:23:23', 'flickr_url': 'http://farm4.staticflickr.com/3417/3472053344_28a89b47cc_z.jpg', 'id': 285742}\n",
      "{'license': 4, 'file_name': '000000292257.jpg', 'coco_url': 'http://images.cocodataset.org/train2017/000000292257.jpg', 'height': 426, 'width': 640, 'date_captured': '2013-11-19 19:27:09', 'flickr_url': 'http://farm6.staticflickr.com/5145/5650974109_41efa8db9e_z.jpg', 'id': 292257}\n",
      "{'license': 3, 'file_name': '000000383413.jpg', 'coco_url': 'http://images.cocodataset.org/train2017/000000383413.jpg', 'height': 480, 'width': 640, 'date_captured': '2013-11-18 13:27:45', 'flickr_url': 'http://farm9.staticflickr.com/8524/8590167014_2da496a15d_z.jpg', 'id': 383413}\n",
      "{'license': 3, 'file_name': '000000003219.jpg', 'coco_url': 'http://images.cocodataset.org/train2017/000000003219.jpg', 'height': 480, 'width': 640, 'date_captured': '2013-11-24 00:57:36', 'flickr_url': 'http://farm5.staticflickr.com/4078/4858224475_f29956d726_z.jpg', 'id': 3219}\n"
     ]
    }
   ],
   "source": [
    "# create a mini dataset\n",
    "new_annotations = []\n",
    "new_images = []\n",
    "new_categories = copy.deepcopy(coco.dataset['categories'])\n",
    "ONLY_GEN_ANNS = False\n",
    "\n",
    "for img_id in X_test:\n",
    "    annIds = coco.getAnnIds(imgIds=img_id)\n",
    "    anns = coco.loadAnns(annIds)\n",
    "\n",
    "    # add to new_images\n",
    "    dup_image_details = copy.deepcopy(image_id_to_detail_map[img_id])\n",
    "    dup_image_details['id'] = img_id\n",
    "    orig_filename = dup_image_details['file_name']\n",
    "    dup_image_details['file_name'] = re.sub('(?P<zeros>00*)[^0][0-9]+', r'\\g<zeros>{}'.format(img_id), orig_filename)\n",
    "    print(dup_image_details)\n",
    "    if not ONLY_GEN_ANNS:\n",
    "        # make a copy of original image\n",
    "        src = os.path.join(dataDir, 'train2017', orig_filename)\n",
    "        dest = os.path.join(targetDataDir, 'train2017', dup_image_details['file_name'])\n",
    "        shutil.copy(src, dest)\n",
    "    new_images.append(dup_image_details)\n",
    "    dup_img_anns = copy.deepcopy(anns)\n",
    "    # add to new_annotations\n",
    "    new_annotations.extend(dup_img_anns)\n",
    "\n",
    "dbg.close()\n",
    "\n",
    "sampled_coco_dict = {}\n",
    "sampled_coco_dict['images'] = new_images\n",
    "sampled_coco_dict['categories'] = new_categories\n",
    "sampled_coco_dict['annotations'] = new_annotations\n",
    "\n",
    "import json\n",
    "json.dump(sampled_coco_dict, open(os.path.join(targetDataDir, 'annotations.json'), 'w'), indent=4)\n"
   ]
  },
  {
   "cell_type": "code",
   "execution_count": null,
   "id": "considered-watershed",
   "metadata": {},
   "outputs": [],
   "source": []
  },
  {
   "cell_type": "code",
   "execution_count": null,
   "id": "pretty-interview",
   "metadata": {},
   "outputs": [],
   "source": []
  }
 ],
 "metadata": {
  "kernelspec": {
   "display_name": "conda_pytorch_p36",
   "language": "python",
   "name": "conda_pytorch_p36"
  },
  "language_info": {
   "codemirror_mode": {
    "name": "ipython",
    "version": 3
   },
   "file_extension": ".py",
   "mimetype": "text/x-python",
   "name": "python",
   "nbconvert_exporter": "python",
   "pygments_lexer": "ipython3",
   "version": "3.6.13"
  }
 },
 "nbformat": 4,
 "nbformat_minor": 5
}
